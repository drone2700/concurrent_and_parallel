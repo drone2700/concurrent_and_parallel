{
 "cells": [
  {
   "cell_type": "code",
   "execution_count": 7,
   "id": "3e2d81c5-3f91-4e3a-baa1-6c75c60c209f",
   "metadata": {},
   "outputs": [],
   "source": [
    "import time\n",
    "import threading"
   ]
  },
  {
   "cell_type": "code",
   "execution_count": 4,
   "id": "05ced0aa-30d4-492c-b664-257f6d35f882",
   "metadata": {},
   "outputs": [],
   "source": [
    "def calculate_sum_squares(n):\n",
    "    sum_squares = 0\n",
    "    for i in range(n):\n",
    "        sum_squares += i**2\n",
    "    print(f\"Sum of squares: {sum_squares}\")\n",
    "\n",
    "def sleep_a_little(seconds):\n",
    "    time.sleep(seconds)\n",
    "    print(f\"Slept for {seconds} seconds\")\n"
   ]
  },
  {
   "cell_type": "code",
   "execution_count": 5,
   "id": "5475debb-a3e1-4e26-aa03-5c20166d8559",
   "metadata": {},
   "outputs": [
    {
     "name": "stdout",
     "output_type": "stream",
     "text": [
      "Sum of squares: 333332833333500000\n",
      "Calculating took 0.1 seconds\n"
     ]
    }
   ],
   "source": [
    "start_time = time.time()\n",
    "calculate_sum_squares(1000000)\n",
    "print(f\"Calculating took {round(time.time() - start_time, 1)} seconds\")\n"
   ]
  },
  {
   "cell_type": "code",
   "execution_count": 10,
   "id": "a89a8e43-ef62-4437-b013-7b83667dfb0f",
   "metadata": {},
   "outputs": [
    {
     "name": "stdout",
     "output_type": "stream",
     "text": [
      "Sum of squares: 333332833333500000\n"
     ]
    }
   ],
   "source": [
    "import threading\n",
    "\n",
    "def calculate_sum_squares(n):\n",
    "    sum_squares = sum(i**2 for i in range(n))\n",
    "    print(f\"Sum of squares: {sum_squares}\")\n",
    "\n",
    "# Crear el hilo\n",
    "t = threading.Thread(target=calculate_sum_squares, args=(1000000,))\n",
    "\n",
    "# Configurar el hilo como daemon antes de iniciarlo\n",
    "t.daemon = True\n",
    "\n",
    "# Iniciar el hilo\n",
    "t.start()\n",
    "\n",
    "# Esperar a que el hilo termine (opcional, si es necesario)\n",
    "t.join()\n"
   ]
  }
 ],
 "metadata": {
  "kernelspec": {
   "display_name": "Python 3 (ipykernel)",
   "language": "python",
   "name": "python3"
  },
  "language_info": {
   "codemirror_mode": {
    "name": "ipython",
    "version": 3
   },
   "file_extension": ".py",
   "mimetype": "text/x-python",
   "name": "python",
   "nbconvert_exporter": "python",
   "pygments_lexer": "ipython3",
   "version": "3.11.7"
  }
 },
 "nbformat": 4,
 "nbformat_minor": 5
}
